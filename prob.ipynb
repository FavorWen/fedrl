{
 "cells": [
  {
   "cell_type": "code",
   "execution_count": 1,
   "metadata": {},
   "outputs": [],
   "source": [
    "from scipy.special import comb\n",
    "\n",
    "def probNumOfBenign(i):\n",
    "    global N,P\n",
    "    global benign\n",
    "    return comb(benign,i)*comb(N-benign,P-i)/comb(N,P)\n",
    "\n",
    "def probScoreToNumOfBenign(s,i):\n",
    "    global N,P,alpha,bata\n",
    "    global benign\n",
    "    key = (s,i)\n",
    "    if key in logsScoreBenign:\n",
    "        return logsScoreBenign[key]\n",
    "    if (s+P)%2 != 0:\n",
    "        logsScoreBenign[key] = 0\n",
    "        return logsScoreBenign[key]\n",
    "    m = (s+P)//2\n",
    "    sum = 0\n",
    "    for t in range(0,m+1):\n",
    "        sum += comb(i,t)*(alpha**t)*((1-alpha)**(i-t)) * \\\n",
    "               comb(P-i,m-t)*(beta**(m-t))*((1-beta)**(P-i-m+t))\n",
    "    logsScoreBenign[key] = sum\n",
    "    return logsScoreBenign[key]\n",
    "    \n",
    "\n",
    "def _probScoreToNumOfBenign(s,i):\n",
    "    global N,P,alpha\n",
    "    global benign\n",
    "    scores = s + P - i\n",
    "    key = (s,i)\n",
    "    if key in logsScoreBenign:\n",
    "        return logsScoreBenign[key]\n",
    "    if (scores+i)%2 != 0 or scores < -i or scores > i:\n",
    "        logsScoreBenign[key] = 0\n",
    "        return 0\n",
    "    p = (scores+i)/2\n",
    "    logsScoreBenign[key] = comb(i,p)*(alpha**p)*((1-alpha)**(i-p))\n",
    "\n",
    "    return logsScoreBenign[key]\n",
    "\n",
    "\n",
    "def probNumOfBenignToScore(i,s):\n",
    "    global N,P\n",
    "    global benign\n",
    "    key = (i,s)\n",
    "    if key in logsBenignScore:\n",
    "        return logsBenignScore[key]\n",
    "    if s not in logsProbBase:\n",
    "        probBase = 0\n",
    "        for t in range(0, P+1):\n",
    "            pScoreToBengin = probScoreToNumOfBenign(s,t)\n",
    "            pBenign = probNumOfBenign(t)\n",
    "            probBase += pScoreToBengin*pBenign\n",
    "        logsProbBase[s] = probBase\n",
    "    probBase = logsProbBase[s]\n",
    "    if probBase == 0:\n",
    "        logsBenignScore[key] = 0\n",
    "    else:\n",
    "        pScoreToBengin = probScoreToNumOfBenign(s,i)\n",
    "        pBenign = probNumOfBenign(i)\n",
    "        logsBenignScore[key] = pScoreToBengin*pBenign/probBase\n",
    "    return logsBenignScore[key]\n",
    "\n",
    "def probGENumOfBenignToScores(i,s):\n",
    "    global P\n",
    "    sum = 0\n",
    "    for j in range(i,P+1):\n",
    "        sum += probNumOfBenignToScore(j,s)\n",
    "    return sum\n",
    "\n",
    "def probGNumOfBenignToScores(i,s):\n",
    "    global P\n",
    "    sum = 0\n",
    "    for j in range(i+1,P+1):\n",
    "        sum += probNumOfBenignToScore(j,s)\n",
    "    return sum\n",
    "\n",
    "def probLENumOfBenignToScores(i,s):\n",
    "    sum = 0\n",
    "    for j in range(0,i+1):\n",
    "        sum += probNumOfBenignToScore(j,s)\n",
    "    return sum\n",
    "\n",
    "def probLNumOfBenignToScores(i,s):\n",
    "    sum = 0\n",
    "    for j in range(0,i):\n",
    "        sum += probNumOfBenignToScore(j,s)\n",
    "    return sum"
   ]
  },
  {
   "cell_type": "code",
   "execution_count": 2,
   "metadata": {},
   "outputs": [
    {
     "name": "stdout",
     "output_type": "stream",
     "text": [
      "Prob(S=3|B=0)=0.125,Prob(B=0)=0.0\n",
      "Prob(S=3|B=1)=0.125,Prob(B=1)=0.3\n",
      "Prob(S=3|B=2)=0.125,Prob(B=2)=0.6\n",
      "Prob(S=3|B=3)=0.125,Prob(B=3)=0.1\n",
      "N=5, P=3,Benign=3,alpha=0.5,beta=0.5\n",
      "Quorum=2\n",
      "ErrPunish\t\t\t ErrIncent\n",
      "Prob(Malicious <  2|S = -1)=0.700, Prob(Benign <  2|S =  1)=0.300\n",
      "Prob(Malicious <  2|S = -3)=0.700, Prob(Benign <  2|S =  3)=0.300\n"
     ]
    }
   ],
   "source": [
    "if __name__ == '__main__':\n",
    "    logsScoreBenign = {}\n",
    "    logsBenignScore = {}\n",
    "    logsProbBase = {}\n",
    "    benign = 3\n",
    "    N = 5\n",
    "    P = 3\n",
    "    s = -8\n",
    "    alpha = 0.5\n",
    "    beta = 0.5\n",
    "    \n",
    "    half = int(P / 2 + 1)\n",
    "    for i in range(0,P):\n",
    "        print(f'Prob(S=3|B={i})={probScoreToNumOfBenign(3,i)},Prob(B={i})={probNumOfBenign(i)}')\n",
    "    print(f'Prob(S=3|B={3})={probScoreToNumOfBenign(3,3)},Prob(B={3})={probNumOfBenign(3)}')\n",
    "    print(f'N={N}, P={P},Benign={benign},alpha={alpha},beta={beta}')\n",
    "    print(f'Quorum={half}')\n",
    "    print(\"ErrPunish\\t\\t\\t ErrIncent\")\n",
    "    for s in range(0,P+1):\n",
    "        # Malicious < Quorum -> P-Benign < Quorum -> Benign > P-Quorum\n",
    "        pErrPunish = probGNumOfBenignToScores(P-half,-s)\n",
    "        # Benign < Quorum\n",
    "        pErrIncent = probLNumOfBenignToScores(half,s)\n",
    "        if pErrPunish == 0 or pErrIncent == 0:\n",
    "            continue\n",
    "        print('Prob(Malicious <%3d|S =%3d)=%.3f, Prob(Benign <%3d|S =%3d)=%.3f' % (half,-s,pErrPunish, half,s,pErrIncent))\n",
    "    \n"
   ]
  },
  {
   "cell_type": "code",
   "execution_count": 3,
   "metadata": {},
   "outputs": [
    {
     "data": {
      "text/plain": [
       "(0.3, 0.6, 0.10000000000000002)"
      ]
     },
     "execution_count": 3,
     "metadata": {},
     "output_type": "execute_result"
    }
   ],
   "source": [
    "probLNumOfBenignToScores(2,1),probNumOfBenignToScore(2,1),probGNumOfBenignToScores(2,1)"
   ]
  },
  {
   "cell_type": "code",
   "execution_count": 6,
   "metadata": {},
   "outputs": [
    {
     "data": {
      "text/plain": [
       "0.0"
      ]
     },
     "execution_count": 6,
     "metadata": {},
     "output_type": "execute_result"
    }
   ],
   "source": [
    "comb(3,5)"
   ]
  },
  {
   "cell_type": "code",
   "execution_count": null,
   "metadata": {},
   "outputs": [],
   "source": []
  }
 ],
 "metadata": {
  "kernelspec": {
   "display_name": "Python 3.9.13 ('qi')",
   "language": "python",
   "name": "python3"
  },
  "language_info": {
   "codemirror_mode": {
    "name": "ipython",
    "version": 3
   },
   "file_extension": ".py",
   "mimetype": "text/x-python",
   "name": "python",
   "nbconvert_exporter": "python",
   "pygments_lexer": "ipython3",
   "version": "3.9.13"
  },
  "orig_nbformat": 4,
  "vscode": {
   "interpreter": {
    "hash": "62f30f1195c052c8e897c71c3f604d92ecb65e654a41a907c2365903ca5c1fb1"
   }
  }
 },
 "nbformat": 4,
 "nbformat_minor": 2
}
