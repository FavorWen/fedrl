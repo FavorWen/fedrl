{
 "cells": [
  {
   "cell_type": "code",
   "execution_count": 2,
   "metadata": {},
   "outputs": [],
   "source": [
    "import torch\n",
    "import torch.nn as nn\n",
    "import torch.nn.functional as F\n",
    "import numpy as np\n",
    "\n",
    "import logging\n",
    "\n",
    "logger = logging.getLogger('')\n",
    "logger.setLevel(logging.INFO)\n"
   ]
  },
  {
   "cell_type": "code",
   "execution_count": 20,
   "metadata": {},
   "outputs": [],
   "source": [
    "# 假设 client_nums = 5, participants_nums = 3\n",
    "# [1, 1, 1, 0, 0, 0.66, 1, 0, 1, 0, 1, 0.70]\n",
    "# action = 0, 2, 3\n",
    "# [1, 0, 1, 1, 0, 0.77] -> [action + reward]\n",
    "# [1, 0, 1, 0, 1, 0.70, 1, 0, 1, 1, 0, 0.77] - > update obs\n",
    "\n",
    "class Model2D(nn.Module):\n",
    "    def __init__(self, obs_dim, act_dim):\n",
    "        super().__init__()\n",
    "        self.obs_dim = obs_dim\n",
    "        self.act_dim = act_dim\n",
    "\n",
    "        self.body_1 = nn.Sequential(\n",
    "            nn.Conv2d(in_channels=1, out_channels=16, kernel_size=3, stride=1, padding=1),\n",
    "            # nn.BatchNorm2d(16),\n",
    "            nn.ReLU(),\n",
    "            nn.MaxPool2d(kernel_size=2, stride=2),\n",
    "\n",
    "            nn.Conv2d(in_channels=16, out_channels=32, kernel_size=3, stride=1, padding=1),\n",
    "            # nn.BatchNorm2d(32),\n",
    "            nn.ReLU(),\n",
    "            nn.MaxPool2d(kernel_size=2, stride=2),\n",
    "        )\n",
    "\n",
    "        self.fc1 = nn.Linear(32 * 6, 128)\n",
    "        self.bn1 = nn.BatchNorm1d(128)\n",
    "        self.relu = nn.ReLU()\n",
    "        self.fc2 = nn.Linear(128, 100)\n",
    "\n",
    "        # self.body_2 = nn.Sequential(\n",
    "        #     nn.Linear(32 * 101 * 2, 128),\n",
    "        #     nn.BatchNorm1d(128),\n",
    "        #     nn.ReLU(),\n",
    "        #     nn.Linear(128, 100),\n",
    "        # )\n",
    "    def forward(self, obs):\n",
    "        x = self.body_1(obs)\n",
    "        x = x.view(x.size(0), -1)\n",
    "        x = self.fc1(x)\n",
    "        x = self.bn1(x)\n",
    "        x = self.relu(x)\n",
    "        x = self.fc2(x)\n",
    "        # x = self.body_2(obs)\n",
    "        return F.softmax(x, dim=1)"
   ]
  },
  {
   "cell_type": "code",
   "execution_count": null,
   "metadata": {},
   "outputs": [],
   "source": [
    "class Model2D(nn.Module):\n",
    "    def __init__(self, obs_dim, act_dim):\n",
    "        hidden_size = 1024\n",
    "        self.lstm = nn.LSTM(obs_dim, hidden_size, batch_first=True)\n",
    "        self.fc = nn.Linear(hidden_size, act_dim)\n",
    "    def forward(self, x):\n",
    "        x, _ = self.lstm(x)\n",
    "        \n"
   ]
  },
  {
   "cell_type": "code",
   "execution_count": 23,
   "metadata": {},
   "outputs": [],
   "source": [
    "obs_dim = 101*4\n",
    "act_dim = 100\n",
    "hidden_size = 1024\n",
    "lstm = nn.LSTM(obs_dim, hidden_size, batch_first=True)"
   ]
  },
  {
   "cell_type": "code",
   "execution_count": 32,
   "metadata": {},
   "outputs": [
    {
     "name": "stdout",
     "output_type": "stream",
     "text": [
      "torch.Size([1, 1024]) 2\n"
     ]
    }
   ],
   "source": [
    "x = torch.randn([1,obs_dim])\n",
    "o = lstm(x)\n",
    "print(o[0].shape, len(o[1]))"
   ]
  },
  {
   "cell_type": "code",
   "execution_count": 21,
   "metadata": {},
   "outputs": [],
   "source": [
    "model = Model2D(1,1)"
   ]
  },
  {
   "cell_type": "code",
   "execution_count": 5,
   "metadata": {},
   "outputs": [
    {
     "data": {
      "text/plain": [
       "torch.Size([1, 1, 4, 101])"
      ]
     },
     "execution_count": 5,
     "metadata": {},
     "output_type": "execute_result"
    }
   ],
   "source": [
    "x = torch.randn([4, 26])\n",
    "x.unsqueeze(0).unsqueeze(0).shape"
   ]
  },
  {
   "cell_type": "code",
   "execution_count": 19,
   "metadata": {},
   "outputs": [
    {
     "data": {
      "text/plain": [
       "6.0"
      ]
     },
     "execution_count": 19,
     "metadata": {},
     "output_type": "execute_result"
    }
   ],
   "source": [
    "192/32"
   ]
  },
  {
   "cell_type": "code",
   "execution_count": 22,
   "metadata": {},
   "outputs": [
    {
     "data": {
      "text/plain": [
       "tensor([[0.0063, 0.0088, 0.0052, 0.0104, 0.0117, 0.0149, 0.0042, 0.0177, 0.0145,\n",
       "         0.0126, 0.0185, 0.0101, 0.0089, 0.0083, 0.0085, 0.0071, 0.0065, 0.0096,\n",
       "         0.0076, 0.0090, 0.0086, 0.0087, 0.0123, 0.0064, 0.0098, 0.0198, 0.0127,\n",
       "         0.0047, 0.0045, 0.0122, 0.0080, 0.0050, 0.0077, 0.0074, 0.0092, 0.0072,\n",
       "         0.0068, 0.0070, 0.0136, 0.0060, 0.0074, 0.0058, 0.0151, 0.0072, 0.0059,\n",
       "         0.0175, 0.0125, 0.0095, 0.0078, 0.0152, 0.0197, 0.0080, 0.0052, 0.0149,\n",
       "         0.0094, 0.0080, 0.0137, 0.0151, 0.0110, 0.0049, 0.0029, 0.0084, 0.0132,\n",
       "         0.0051, 0.0131, 0.0140, 0.0225, 0.0103, 0.0127, 0.0049, 0.0108, 0.0102,\n",
       "         0.0099, 0.0047, 0.0082, 0.0087, 0.0043, 0.0092, 0.0064, 0.0075, 0.0113,\n",
       "         0.0117, 0.0096, 0.0129, 0.0056, 0.0069, 0.0111, 0.0087, 0.0215, 0.0091,\n",
       "         0.0065, 0.0239, 0.0126, 0.0122, 0.0142, 0.0099, 0.0122, 0.0078, 0.0092,\n",
       "         0.0043],\n",
       "        [0.0059, 0.0099, 0.0168, 0.0112, 0.0080, 0.0091, 0.0171, 0.0086, 0.0055,\n",
       "         0.0081, 0.0095, 0.0069, 0.0105, 0.0106, 0.0159, 0.0065, 0.0074, 0.0145,\n",
       "         0.0144, 0.0062, 0.0111, 0.0087, 0.0105, 0.0062, 0.0080, 0.0064, 0.0080,\n",
       "         0.0081, 0.0088, 0.0116, 0.0154, 0.0078, 0.0107, 0.0050, 0.0209, 0.0062,\n",
       "         0.0114, 0.0051, 0.0105, 0.0108, 0.0091, 0.0044, 0.0157, 0.0071, 0.0140,\n",
       "         0.0051, 0.0100, 0.0085, 0.0106, 0.0053, 0.0088, 0.0139, 0.0104, 0.0084,\n",
       "         0.0134, 0.0071, 0.0101, 0.0087, 0.0040, 0.0112, 0.0086, 0.0077, 0.0070,\n",
       "         0.0045, 0.0123, 0.0136, 0.0089, 0.0167, 0.0156, 0.0102, 0.0049, 0.0161,\n",
       "         0.0091, 0.0065, 0.0064, 0.0176, 0.0048, 0.0092, 0.0077, 0.0227, 0.0199,\n",
       "         0.0102, 0.0085, 0.0107, 0.0075, 0.0073, 0.0080, 0.0073, 0.0061, 0.0115,\n",
       "         0.0078, 0.0209, 0.0056, 0.0072, 0.0066, 0.0169, 0.0100, 0.0182, 0.0139,\n",
       "         0.0063]], grad_fn=<SoftmaxBackward0>)"
      ]
     },
     "execution_count": 22,
     "metadata": {},
     "output_type": "execute_result"
    }
   ],
   "source": [
    "x = torch.randn([2,1,4,26])\n",
    "model(x)"
   ]
  },
  {
   "cell_type": "code",
   "execution_count": 14,
   "metadata": {},
   "outputs": [
    {
     "data": {
      "text/plain": [
       "404.0"
      ]
     },
     "execution_count": 14,
     "metadata": {},
     "output_type": "execute_result"
    }
   ],
   "source": [
    "input_size = 4 * 101\n",
    "kernel_size = 3\n",
    "padding = 1\n",
    "stride = 1\n",
    "(input_size - kernel_size + 2 * padding) / stride + 1"
   ]
  },
  {
   "cell_type": "code",
   "execution_count": 15,
   "metadata": {},
   "outputs": [
    {
     "data": {
      "text/plain": [
       "800"
      ]
     },
     "execution_count": 15,
     "metadata": {},
     "output_type": "execute_result"
    }
   ],
   "source": []
  },
  {
   "cell_type": "code",
   "execution_count": null,
   "metadata": {},
   "outputs": [],
   "source": []
  }
 ],
 "metadata": {
  "kernelspec": {
   "display_name": "base",
   "language": "python",
   "name": "python3"
  },
  "language_info": {
   "codemirror_mode": {
    "name": "ipython",
    "version": 3
   },
   "file_extension": ".py",
   "mimetype": "text/x-python",
   "name": "python",
   "nbconvert_exporter": "python",
   "pygments_lexer": "ipython3",
   "version": "3.8.10"
  }
 },
 "nbformat": 4,
 "nbformat_minor": 2
}
