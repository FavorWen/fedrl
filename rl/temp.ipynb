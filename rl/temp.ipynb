{
 "cells": [
  {
   "cell_type": "code",
   "execution_count": 1,
   "metadata": {},
   "outputs": [],
   "source": [
    "import torch\n",
    "import torch.nn as nn\n",
    "import torch.nn.functional as F\n",
    "import numpy as np\n",
    "\n",
    "import logging\n",
    "\n",
    "logger = logging.getLogger('')\n",
    "logger.setLevel(logging.INFO)\n"
   ]
  },
  {
   "cell_type": "code",
   "execution_count": 6,
   "metadata": {},
   "outputs": [],
   "source": [
    "# 假设 client_nums = 5, participants_nums = 3\n",
    "# [1, 1, 1, 0, 0, 0.66, 1, 0, 1, 0, 1, 0.70]\n",
    "# action = 0, 2, 3\n",
    "# [1, 0, 1, 1, 0, 0.77] -> [action + reward]\n",
    "# [1, 0, 1, 0, 1, 0.70, 1, 0, 1, 1, 0, 0.77] - > update obs\n",
    "\n",
    "class Model2D(nn.Module):\n",
    "    def __init__(self, obs_dim, act_dim):\n",
    "        super().__init__()\n",
    "        self.obs_dim = obs_dim\n",
    "        self.act_dim = act_dim\n",
    "\n",
    "        self.body_1 = nn.Sequential(\n",
    "            nn.Conv2d(in_channels=1, out_channels=16, kernel_size=3, stride=1, padding=1),\n",
    "            nn.BatchNorm2d(16),\n",
    "            nn.ReLU(),\n",
    "            nn.MaxPool2d(kernel_size=2, stride=2),\n",
    "\n",
    "            nn.Conv2d(in_channels=16, out_channels=32, kernel_size=3, stride=1, padding=1),\n",
    "            nn.BatchNorm2d(32),\n",
    "            nn.ReLU(),\n",
    "            nn.MaxPool2d(kernel_size=2, stride=2),\n",
    "        )\n",
    "\n",
    "        self.fc1 = nn.Linear(32 * 101 * 1, 128)\n",
    "        self.bn1 = nn.BatchNorm1d(128)\n",
    "        self.relu = nn.ReLU()\n",
    "        self.fc2 = nn.Linear(128, 100)\n",
    "\n",
    "        # self.body_2 = nn.Sequential(\n",
    "        #     nn.Linear(32 * 101 * 2, 128),\n",
    "        #     nn.BatchNorm1d(128),\n",
    "        #     nn.ReLU(),\n",
    "        #     nn.Linear(128, 100),\n",
    "        # )\n",
    "    def forward(self, obs):\n",
    "        x = self.body_1(obs)\n",
    "        x = x.view(x.size(0), -1)\n",
    "        x = self.fc1(x)\n",
    "        x = self.bn1(x)\n",
    "        x = self.relu(x)\n",
    "        x = self.fc2(x)\n",
    "        # x = self.body_2(obs)\n",
    "        return F.softmax(x, dim=1)"
   ]
  },
  {
   "cell_type": "code",
   "execution_count": 7,
   "metadata": {},
   "outputs": [],
   "source": [
    "model = Model2D(1,1)"
   ]
  },
  {
   "cell_type": "code",
   "execution_count": 15,
   "metadata": {},
   "outputs": [
    {
     "data": {
      "text/plain": [
       "torch.Size([1, 1, 4, 404])"
      ]
     },
     "execution_count": 15,
     "metadata": {},
     "output_type": "execute_result"
    }
   ],
   "source": [
    "x = torch.randn([4, 404])\n",
    "x.unsqueeze(0).unsqueeze(0).shape"
   ]
  },
  {
   "cell_type": "code",
   "execution_count": 9,
   "metadata": {},
   "outputs": [],
   "source": [
    "x = torch.randn([1,1,4,404])"
   ]
  },
  {
   "cell_type": "code",
   "execution_count": 11,
   "metadata": {},
   "outputs": [
    {
     "data": {
      "text/plain": [
       "tensor([[0.0104, 0.0104, 0.0101, 0.0110, 0.0094, 0.0096, 0.0096, 0.0105, 0.0104,\n",
       "         0.0097, 0.0083, 0.0086, 0.0093, 0.0099, 0.0109, 0.0099, 0.0095, 0.0090,\n",
       "         0.0118, 0.0102, 0.0102, 0.0096, 0.0105, 0.0096, 0.0094, 0.0097, 0.0102,\n",
       "         0.0102, 0.0107, 0.0108, 0.0102, 0.0096, 0.0105, 0.0089, 0.0092, 0.0101,\n",
       "         0.0118, 0.0100, 0.0106, 0.0104, 0.0105, 0.0089, 0.0112, 0.0106, 0.0114,\n",
       "         0.0094, 0.0101, 0.0106, 0.0115, 0.0111, 0.0111, 0.0093, 0.0103, 0.0093,\n",
       "         0.0102, 0.0090, 0.0101, 0.0106, 0.0103, 0.0093, 0.0102, 0.0104, 0.0105,\n",
       "         0.0098, 0.0088, 0.0097, 0.0095, 0.0118, 0.0098, 0.0125, 0.0094, 0.0095,\n",
       "         0.0096, 0.0094, 0.0104, 0.0094, 0.0099, 0.0099, 0.0098, 0.0097, 0.0104,\n",
       "         0.0096, 0.0100, 0.0084, 0.0088, 0.0090, 0.0093, 0.0090, 0.0095, 0.0101,\n",
       "         0.0108, 0.0091, 0.0084, 0.0109, 0.0107, 0.0103, 0.0103, 0.0103, 0.0090,\n",
       "         0.0108]], grad_fn=<SoftmaxBackward0>)"
      ]
     },
     "execution_count": 11,
     "metadata": {},
     "output_type": "execute_result"
    }
   ],
   "source": [
    "model.eval()\n",
    "model(x)"
   ]
  },
  {
   "cell_type": "code",
   "execution_count": null,
   "metadata": {},
   "outputs": [],
   "source": []
  }
 ],
 "metadata": {
  "kernelspec": {
   "display_name": "base",
   "language": "python",
   "name": "python3"
  },
  "language_info": {
   "codemirror_mode": {
    "name": "ipython",
    "version": 3
   },
   "file_extension": ".py",
   "mimetype": "text/x-python",
   "name": "python",
   "nbconvert_exporter": "python",
   "pygments_lexer": "ipython3",
   "version": "3.8.10"
  }
 },
 "nbformat": 4,
 "nbformat_minor": 2
}
