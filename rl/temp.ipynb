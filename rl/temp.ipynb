{
 "cells": [
  {
   "cell_type": "code",
   "execution_count": 1,
   "metadata": {},
   "outputs": [],
   "source": [
    "import torch\n",
    "import torch.nn as nn\n",
    "import torch.nn.functional as F\n",
    "import numpy as np\n",
    "\n",
    "import logging\n",
    "\n",
    "logger = logging.getLogger('')\n",
    "logger.setLevel(logging.INFO)\n"
   ]
  },
  {
   "cell_type": "code",
   "execution_count": 2,
   "metadata": {},
   "outputs": [],
   "source": [
    "class Model(nn.Module):\n",
    "    def __init__(self, obs_dim, act_dim):\n",
    "        super().__init__()\n",
    "        self.obs_dim = obs_dim\n",
    "        self.act_dim = act_dim\n",
    "        p_hidden_size = 100\n",
    "        l_hidden_size = 100\n",
    "        hidden_size = 100\n",
    "\n",
    "        hdim = obs_dim // (act_dim+1)\n",
    "\n",
    "        self.participant_branch = nn.Sequential(\n",
    "            nn.Linear(hdim * act_dim, p_hidden_size),\n",
    "            nn.ReLU()\n",
    "        )\n",
    "\n",
    "        self.loss_branch = nn.Sequential(\n",
    "            nn.Linear(hdim, l_hidden_size),\n",
    "            nn.ReLU()\n",
    "        )\n",
    "\n",
    "        self.merge = nn.Sequential(\n",
    "            nn.Linear(p_hidden_size + l_hidden_size, hidden_size),\n",
    "            nn.ReLU()\n",
    "        )\n",
    "    \n",
    "    def transfer(self, x):\n",
    "        p = x[..., :-1]\n",
    "        l = x[..., -1:]\n",
    "        return p.reshape(p.size(0), -1), l.reshape(l.size(0), -1)\n",
    "    def forward(self, x):\n",
    "        p, l = self.transfer(x)\n",
    "        pb = self.participant_branch(p)\n",
    "        lb = self.loss_branch(l)\n",
    "        x = torch.cat([pb, lb], dim=-1)\n",
    "        return self.merge(x)"
   ]
  },
  {
   "cell_type": "code",
   "execution_count": 3,
   "metadata": {},
   "outputs": [],
   "source": [
    "class ResidualBlock(nn.Module):\n",
    "    def __init__(self, input_size, hidden_size):\n",
    "        super(ResidualBlock, self).__init__()\n",
    "\n",
    "        self.fc1 = nn.Linear(input_size, hidden_size)\n",
    "        self.relu = nn.ReLU()\n",
    "        self.fc2 = nn.Linear(hidden_size, input_size)\n",
    "\n",
    "    def forward(self, x):\n",
    "        residual = x\n",
    "        x = self.fc1(x)\n",
    "        x = self.relu(x)\n",
    "        x = self.fc2(x)\n",
    "        x += residual  # 跳跃连接\n",
    "        x = self.relu(x)\n",
    "        return x\n",
    "\n",
    "class ModelRes(nn.Module):\n",
    "    def __init__(self, obs_dim, act_dim):\n",
    "        super().__init__()\n",
    "        self.obs_dim = obs_dim\n",
    "        self.act_dim = act_dim\n",
    "        p_hidden_size = 50\n",
    "        l_hidden_size = 50\n",
    "        hidden_size = 50\n",
    "        num_blocks = 2\n",
    "        hdim = obs_dim // (act_dim+1)\n",
    "\n",
    "        self.participant_branch = nn.Sequential(\n",
    "            nn.Linear(hdim * act_dim, p_hidden_size),\n",
    "            nn.ReLU()\n",
    "        )\n",
    "        self.loss_branch = nn.Sequential(\n",
    "            nn.Linear(hdim, l_hidden_size),\n",
    "            nn.ReLU()\n",
    "        )\n",
    "        self.merge = nn.Sequential(\n",
    "            nn.Linear(p_hidden_size + l_hidden_size, hidden_size),\n",
    "            nn.ReLU()\n",
    "        )\n",
    "        self.res_blocks = nn.Sequential(*[ResidualBlock(hidden_size, hidden_size) for _ in range(num_blocks)])\n",
    "        self.net = nn.Sequential(\n",
    "            self.merge,\n",
    "            self.res_blocks,\n",
    "            nn.Linear(hidden_size, act_dim),\n",
    "            # nn.Softmax(dim=1),\n",
    "        )\n",
    "    def transfer(self, x):\n",
    "        p = x[..., :-1]\n",
    "        l = x[..., -1:]\n",
    "        return p.reshape(p.size(0), -1), l.reshape(l.size(0), -1)\n",
    "    def forward(self, obs):\n",
    "        p, l = self.transfer(obs)\n",
    "        pb = self.participant_branch(p)\n",
    "        lb = self.loss_branch(l)\n",
    "        obs = torch.cat([pb, lb], dim=-1)\n",
    "        return self.net(obs)\n",
    "\n",
    "class ModelResSoft(nn.Module):\n",
    "    def __init__(self, obs_dim, act_dim):\n",
    "        super().__init__()\n",
    "        self.obs_dim = obs_dim\n",
    "        self.act_dim = act_dim\n",
    "        p_hidden_size = 50\n",
    "        l_hidden_size = 50\n",
    "        hidden_size = 50\n",
    "        num_blocks = 2\n",
    "        hdim = obs_dim // (act_dim+1)\n",
    "\n",
    "        self.participant_branch = nn.Sequential(\n",
    "            nn.Linear(hdim * act_dim, p_hidden_size),\n",
    "            nn.ReLU()\n",
    "        )\n",
    "        self.loss_branch = nn.Sequential(\n",
    "            nn.Linear(hdim, l_hidden_size),\n",
    "            nn.ReLU()\n",
    "        )\n",
    "        self.merge = nn.Sequential(\n",
    "            nn.Linear(p_hidden_size + l_hidden_size, hidden_size),\n",
    "            nn.ReLU()\n",
    "        )\n",
    "        self.res_blocks = nn.Sequential(*[ResidualBlock(hidden_size, hidden_size) for _ in range(num_blocks)])\n",
    "        self.net = nn.Sequential(\n",
    "            self.merge,\n",
    "            self.res_blocks,\n",
    "            nn.Linear(hidden_size, act_dim),\n",
    "            nn.Softmax(dim=1),\n",
    "        )\n",
    "    def transfer(self, x):\n",
    "        p = x[..., :-1]\n",
    "        l = x[..., -1:]\n",
    "        return p.reshape(p.size(0), -1), l.reshape(l.size(0), -1)\n",
    "    def forward(self, obs):\n",
    "        p, l = self.transfer(obs)\n",
    "        pb = self.participant_branch(p)\n",
    "        lb = self.loss_branch(l)\n",
    "        obs = torch.cat([pb, lb], dim=-1)\n",
    "        return self.net(obs)"
   ]
  },
  {
   "cell_type": "code",
   "execution_count": 4,
   "metadata": {},
   "outputs": [],
   "source": [
    "from helper import Camera\n",
    "import pickle\n",
    "import scipy"
   ]
  },
  {
   "cell_type": "code",
   "execution_count": 5,
   "metadata": {},
   "outputs": [],
   "source": [
    "def spearmanFromActProb(rank, act_prob):\n",
    "    x = [act_prob[i] for i in rank]\n",
    "    y = [c for c in range(len(rank))]\n",
    "    return scipy.stats.spearmanr(x,y)[0]\n",
    "def spearmanSequenceFromActProbList(rank, act_probList):\n",
    "    cos = []\n",
    "    for act_prob in act_probList:\n",
    "        cos.append(spearmanFromActProb(rank, act_prob))\n",
    "    return np.array(cos)\n",
    "def evaluateContributionsFromLogs(logs, client_nums):\n",
    "    contirbution = []\n",
    "    ddl = len(logs)\n",
    "    for r in range(ddl):\n",
    "        contirbution.append([0 for c in range(client_nums)])\n",
    "    pprev_acc = logs[0].acc\n",
    "    prev_participants = logs[1].participants\n",
    "    prev_acc = logs[1].acc\n",
    "    for r in range(2, ddl):\n",
    "        for c in range(client_nums):\n",
    "            contirbution[r][c] = contirbution[r-1][c]\n",
    "        participants, acc = logs[r].participants, logs[r].acc\n",
    "        if acc - prev_acc > prev_acc - pprev_acc:\n",
    "            for c in prev_participants:\n",
    "                contirbution[r][c] -= 1\n",
    "            for c in participants:\n",
    "                contirbution[r][c] += 1\n",
    "        \n",
    "        if acc < prev_acc:\n",
    "            for c in participants:\n",
    "                contirbution[r][c] -= 1\n",
    "    return contirbution"
   ]
  },
  {
   "cell_type": "code",
   "execution_count": 8,
   "metadata": {},
   "outputs": [
    {
     "data": {
      "text/plain": [
       "(0.537303229220732, -0.2544619486746213)"
      ]
     },
     "execution_count": 8,
     "metadata": {},
     "output_type": "execute_result"
    }
   ],
   "source": [
    "with open('camera/cn100_pn10_dFMNIST_aMLP_plabel-skew_seed5.camera', 'rb') as f:\n",
    "    camera = pickle.load(f)\n",
    "curr_round = 4\n",
    "act_probs = camera.act_probLogs[curr_round]\n",
    "contributions = evaluateContributionsFromLogs(camera.getRpmLogs(curr_round), camera.client_nums)\n",
    "sco_rl = spearmanSequenceFromActProbList(camera.rank, act_probs)\n",
    "sco_qi = spearmanSequenceFromActProbList(camera.rank, contributions)\n",
    "sco_rl[199], sco_qi[199]"
   ]
  },
  {
   "cell_type": "code",
   "execution_count": 17,
   "metadata": {},
   "outputs": [
    {
     "data": {
      "text/plain": [
       "(0.9999999999999999, 0.9999999999999999)"
      ]
     },
     "execution_count": 17,
     "metadata": {},
     "output_type": "execute_result"
    }
   ],
   "source": [
    "sco_rl[199], sco_qi[199]"
   ]
  },
  {
   "cell_type": "code",
   "execution_count": 18,
   "metadata": {},
   "outputs": [
    {
     "ename": "NameError",
     "evalue": "name 'rpm' is not defined",
     "output_type": "error",
     "traceback": [
      "\u001b[0;31m---------------------------------------------------------------------------\u001b[0m",
      "\u001b[0;31mNameError\u001b[0m                                 Traceback (most recent call last)",
      "Cell \u001b[0;32mIn[18], line 1\u001b[0m\n\u001b[0;32m----> 1\u001b[0m log \u001b[38;5;241m=\u001b[39m \u001b[43mrpm\u001b[49m\u001b[38;5;241m.\u001b[39mbuffer[r]\n\u001b[1;32m      2\u001b[0m log\u001b[38;5;241m.\u001b[39macc, log\u001b[38;5;241m.\u001b[39mloss, log\u001b[38;5;241m.\u001b[39mparticipants\n",
      "\u001b[0;31mNameError\u001b[0m: name 'rpm' is not defined"
     ]
    }
   ],
   "source": [
    "log = rpm.buffer[r]\n",
    "log.acc, log.loss, log.participants"
   ]
  },
  {
   "cell_type": "code",
   "execution_count": null,
   "metadata": {},
   "outputs": [],
   "source": [
    "\n",
    "logs = [rpm.buffer[i] for i in range(8, 209)]\n",
    "contributions = evaluateContributionsFromLogs(logs, camera.client_nums)"
   ]
  },
  {
   "cell_type": "code",
   "execution_count": null,
   "metadata": {},
   "outputs": [
    {
     "data": {
      "text/plain": [
       "(0.4146991669867845, 0.48400840084008395)"
      ]
     },
     "execution_count": 53,
     "metadata": {},
     "output_type": "execute_result"
    }
   ],
   "source": [
    "\n",
    "s1 = spearmanFromActProb(camera.rank, contributions[199])\n",
    "s2 = spearmanFromActProb(camera.rank, camera.act_probLogs[curr_round][199])\n",
    "s1, s2"
   ]
  },
  {
   "cell_type": "code",
   "execution_count": null,
   "metadata": {},
   "outputs": [
    {
     "name": "stdout",
     "output_type": "stream",
     "text": [
      "8\n"
     ]
    }
   ],
   "source": [
    "bs = 2\n",
    "act_dim = 3\n",
    "h_dim = 2\n",
    "obs_dim = (act_dim + 1) * h_dim\n",
    "print(obs_dim)\n",
    "m1 = ModelRes(obs_dim=obs_dim, act_dim=act_dim)\n",
    "m2 = ModelResSoft(obs_dim=obs_dim, act_dim=act_dim)"
   ]
  },
  {
   "cell_type": "code",
   "execution_count": null,
   "metadata": {},
   "outputs": [
    {
     "data": {
      "text/plain": [
       "(tensor([[0.2650, 0.4232, 0.3119],\n",
       "         [0.2331, 0.4504, 0.3166]], grad_fn=<SoftmaxBackward0>),\n",
       " tensor([[0.2650, 0.4232, 0.3119],\n",
       "         [0.2331, 0.4504, 0.3166]], grad_fn=<SoftmaxBackward0>))"
      ]
     },
     "execution_count": 24,
     "metadata": {},
     "output_type": "execute_result"
    }
   ],
   "source": [
    "x = torch.randn([bs,1 , h_dim, act_dim+1])\n",
    "p = m1(x)\n",
    "soft1 = nn.Softmax(dim=1)\n",
    "soft2 = F.softmax\n",
    "p1 = soft1(p)\n",
    "p2 = soft2(p, dim=-1)\n",
    "p1, p2"
   ]
  },
  {
   "cell_type": "code",
   "execution_count": null,
   "metadata": {},
   "outputs": [
    {
     "data": {
      "text/plain": [
       "tensor([[0.2851, 0.4292, 0.2857],\n",
       "        [0.3004, 0.3787, 0.3209]], grad_fn=<SoftmaxBackward0>)"
      ]
     },
     "execution_count": 17,
     "metadata": {},
     "output_type": "execute_result"
    }
   ],
   "source": [
    "F.softmax(p1,dim=1)"
   ]
  },
  {
   "cell_type": "code",
   "execution_count": null,
   "metadata": {},
   "outputs": [],
   "source": [
    "l = [i for i in range(0, 32)]"
   ]
  },
  {
   "cell_type": "code",
   "execution_count": null,
   "metadata": {},
   "outputs": [
    {
     "data": {
      "text/plain": [
       "[0,\n",
       " 1,\n",
       " 2,\n",
       " 3,\n",
       " 4,\n",
       " 5,\n",
       " 6,\n",
       " 7,\n",
       " 8,\n",
       " 9,\n",
       " 10,\n",
       " 11,\n",
       " 12,\n",
       " 13,\n",
       " 14,\n",
       " 15,\n",
       " 16,\n",
       " 17,\n",
       " 18,\n",
       " 19,\n",
       " 20,\n",
       " 21,\n",
       " 22,\n",
       " 23,\n",
       " 24,\n",
       " 25,\n",
       " 26,\n",
       " 27,\n",
       " 28,\n",
       " 29,\n",
       " 30,\n",
       " 31]"
      ]
     },
     "execution_count": 28,
     "metadata": {},
     "output_type": "execute_result"
    }
   ],
   "source": [
    "l[-64:]"
   ]
  },
  {
   "cell_type": "code",
   "execution_count": null,
   "metadata": {},
   "outputs": [],
   "source": [
    "f = nn.BCEWithLogitsLoss(reduction='none')\n",
    "g = nn.BCEWithLogitsLoss()"
   ]
  },
  {
   "cell_type": "code",
   "execution_count": null,
   "metadata": {},
   "outputs": [],
   "source": []
  },
  {
   "cell_type": "code",
   "execution_count": null,
   "metadata": {},
   "outputs": [
    {
     "data": {
      "text/plain": [
       "(tensor([[0.7762, 0.7756, 0.8213],\n",
       "         [0.6489, 0.6156, 0.8133]],\n",
       "        grad_fn=<BinaryCrossEntropyWithLogitsBackward0>),\n",
       " tensor(0.7418, grad_fn=<BinaryCrossEntropyWithLogitsBackward0>))"
      ]
     },
     "execution_count": 9,
     "metadata": {},
     "output_type": "execute_result"
    }
   ],
   "source": [
    "f(pred, one_hots), g(pred, one_hots)"
   ]
  },
  {
   "cell_type": "code",
   "execution_count": null,
   "metadata": {},
   "outputs": [
    {
     "data": {
      "text/plain": [
       "tensor([[0.7762, 0.7756, 0.8213],\n",
       "        [0.6489, 0.6156, 0.8133]],\n",
       "       grad_fn=<BinaryCrossEntropyWithLogitsBackward0>)"
      ]
     },
     "execution_count": 13,
     "metadata": {},
     "output_type": "execute_result"
    }
   ],
   "source": [
    "t = f(pred, one_hots)"
   ]
  },
  {
   "cell_type": "code",
   "execution_count": null,
   "metadata": {},
   "outputs": [
    {
     "data": {
      "text/plain": [
       "tensor([[-0.9001],\n",
       "        [-0.2279]])"
      ]
     },
     "execution_count": 14,
     "metadata": {},
     "output_type": "execute_result"
    }
   ],
   "source": [
    "rewards"
   ]
  },
  {
   "cell_type": "code",
   "execution_count": null,
   "metadata": {},
   "outputs": [
    {
     "data": {
      "text/plain": [
       "tensor([[-0.6986, -0.6981, -0.7392],\n",
       "        [-0.1479, -0.1403, -0.1853]], grad_fn=<MulBackward0>)"
      ]
     },
     "execution_count": 15,
     "metadata": {},
     "output_type": "execute_result"
    }
   ],
   "source": [
    "t * rewards"
   ]
  },
  {
   "cell_type": "code",
   "execution_count": null,
   "metadata": {},
   "outputs": [],
   "source": [
    "import torch\n",
    "import torchvision\n",
    "\n",
    "import numpy as np\n",
    "import pandas as pd\n",
    "import matplotlib.pyplot as plt\n",
    "import sys\n",
    "\n",
    "\n",
    "from fedlab.utils.dataset.partition import CIFAR100Partitioner\n",
    "from fedlab.utils.dataset import functional as F\n",
    "from fedlab.utils.functional import partition_report\n"
   ]
  },
  {
   "cell_type": "code",
   "execution_count": null,
   "metadata": {},
   "outputs": [
    {
     "name": "stdout",
     "output_type": "stream",
     "text": [
      "Files already downloaded and verified\n"
     ]
    }
   ],
   "source": [
    "trainset = torchvision.datasets.CIFAR10(root=\"/root/autodl-tmp/datasets2\", train=True, download=True)"
   ]
  },
  {
   "cell_type": "code",
   "execution_count": 53,
   "metadata": {},
   "outputs": [],
   "source": [
    "num_clients = 100\n",
    "num_classes = 100\n",
    "num_display_classes = 10\n",
    "\n",
    "\n",
    "col_names = [f\"class{i}\" for i in range(num_classes)]\n",
    "display_col_names = [f\"class{i}\" for i in range(num_display_classes)]\n",
    "\n",
    "seed = 2021\n",
    "\n",
    "hist_color = '#4169E1'\n",
    "plt.rcParams['figure.facecolor'] = 'white'"
   ]
  },
  {
   "cell_type": "code",
   "execution_count": 54,
   "metadata": {},
   "outputs": [
    {
     "name": "stdout",
     "output_type": "stream",
     "text": [
      "100\n"
     ]
    }
   ],
   "source": [
    "# perform partition\n",
    "hetero_dir_part = CIFAR100Partitioner(trainset.targets, \n",
    "                                num_clients,\n",
    "                                balance=None,\n",
    "                                partition=\"dirichlet\",\n",
    "                                dir_alpha=0.5,\n",
    "                                # unbalance_sgm=0.3,\n",
    "                                seed=2020)\n",
    "# save to pkl file\n",
    "torch.save(hetero_dir_part.client_dict, \"tpm.pkl\")\n",
    "print(len(hetero_dir_part))"
   ]
  },
  {
   "cell_type": "code",
   "execution_count": 55,
   "metadata": {},
   "outputs": [
    {
     "data": {
      "text/plain": [
       "Text(0.5, 0, 'sample num')"
      ]
     },
     "execution_count": 55,
     "metadata": {},
     "output_type": "execute_result"
    },
    {
     "data": {
      "image/png": "[encoded data removed]",
      "text/plain": [
       "<Figure size 640x480 with 1 Axes>"
      ]
     },
     "metadata": {},
     "output_type": "display_data"
    }
   ],
   "source": [
    "# generate partition report\n",
    "csv_file = \"tpm.csv\"\n",
    "partition_report(trainset.targets, hetero_dir_part.client_dict, \n",
    "                 class_num=num_classes, \n",
    "                 verbose=False, file=csv_file)\n",
    "\n",
    "hetero_dir_part_df = pd.read_csv(csv_file,header=1)\n",
    "hetero_dir_part_df = hetero_dir_part_df.set_index('client')\n",
    "for col in col_names:\n",
    "    hetero_dir_part_df[col] = (hetero_dir_part_df[col] * hetero_dir_part_df['Amount']).astype(int)\n",
    "\n",
    "# select first 10 clients and first 10 classes for bar plot\n",
    "hetero_dir_part_df[display_col_names].iloc[:10].plot.barh(stacked=True)  \n",
    "# plt.tight_layout()\n",
    "plt.legend(loc='center left', bbox_to_anchor=(1, 0.5))\n",
    "plt.xlabel('sample num')\n",
    "# plt.savefig(f\"./imgs/cifar100_hetero_dir_0.3_100clients.png\", dpi=400, bbox_inches = 'tight')"
   ]
  },
  {
   "cell_type": "code",
   "execution_count": 46,
   "metadata": {},
   "outputs": [],
   "source": [
    "from fedlab.utils.dataset.partition import MNISTPartitioner\n",
    "\n",
    "num_classes = 10\n",
    "num_clients = 25\n",
    "seed = 2021\n",
    "\n",
    "\n",
    "noniid_labeldir_part = MNISTPartitioner(trainset.targets, \n",
    "                                        num_clients=num_clients,\n",
    "                                        partition=\"noniid-labeldir\", \n",
    "                                        dir_alpha=0.5,\n",
    "                                        seed=seed)"
   ]
  },
  {
   "cell_type": "code",
   "execution_count": 47,
   "metadata": {},
   "outputs": [
    {
     "data": {
      "text/plain": [
       "Text(0.5, 0, 'sample num')"
      ]
     },
     "execution_count": 47,
     "metadata": {},
     "output_type": "execute_result"
    },
    {
     "data": {
      "image/png": "[encoded data removed]",
      "text/plain": [
       "<Figure size 640x480 with 1 Axes>"
      ]
     },
     "metadata": {},
     "output_type": "display_data"
    }
   ],
   "source": [
    "col_names = [f\"class{i}\" for i in range(num_classes)]\n",
    "\n",
    "hist_color = '#4169E1'\n",
    "plt.rcParams['figure.facecolor'] = 'white'\n",
    "\n",
    "# generate partition report\n",
    "csv_file = \"tpm.csv\"\n",
    "partition_report(trainset.targets, noniid_labeldir_part.client_dict, \n",
    "                 class_num=num_classes, \n",
    "                 verbose=False, file=csv_file)\n",
    "\n",
    "noniid_labeldir_part_df = pd.read_csv(csv_file,header=1)\n",
    "noniid_labeldir_part_df = noniid_labeldir_part_df.set_index('client')\n",
    "for col in col_names:\n",
    "    noniid_labeldir_part_df[col] = (noniid_labeldir_part_df[col] * noniid_labeldir_part_df['Amount']).astype(int)\n",
    "\n",
    "# select first 10 clients for bar plot\n",
    "noniid_labeldir_part_df[col_names].plot.barh(stacked=True)  \n",
    "# plt.tight_layout()\n",
    "plt.legend(loc='center left', bbox_to_anchor=(1, 0.5))\n",
    "plt.xlabel('sample num')"
   ]
  },
  {
   "cell_type": "code",
   "execution_count": null,
   "metadata": {},
   "outputs": [],
   "source": []
  }
 ],
 "metadata": {
  "kernelspec": {
   "display_name": "base",
   "language": "python",
   "name": "python3"
  },
  "language_info": {
   "codemirror_mode": {
    "name": "ipython",
    "version": 3
   },
   "file_extension": ".py",
   "mimetype": "text/x-python",
   "name": "python",
   "nbconvert_exporter": "python",
   "pygments_lexer": "ipython3",
   "version": "3.8.10"
  }
 },
 "nbformat": 4,
 "nbformat_minor": 2
}
