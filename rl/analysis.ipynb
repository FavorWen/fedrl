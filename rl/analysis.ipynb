{
 "cells": [
  {
   "cell_type": "code",
   "execution_count": 1,
   "metadata": {},
   "outputs": [],
   "source": [
    "import torch\n",
    "import torch.nn as nn\n",
    "import torch.nn.functional as F\n",
    "import numpy as np\n",
    "\n",
    "import logging\n",
    "\n",
    "logger = logging.getLogger('')\n",
    "logger.setLevel(logging.INFO)\n",
    "\n",
    "from helper import Camera\n",
    "import pickle\n",
    "import scipy\n"
   ]
  },
  {
   "cell_type": "code",
   "execution_count": 2,
   "metadata": {},
   "outputs": [],
   "source": [
    "const_rl_ddl = 200\n",
    "const_warm_up = 2\n",
    "const_final_round  = const_rl_ddl - 1\n",
    "def spearmanFromActProb(rank, act_prob):\n",
    "    x = [act_prob[i] for i in rank]\n",
    "    y = [c for c in range(len(rank))]\n",
    "    return scipy.stats.spearmanr(x,y)[0]\n",
    "def spearmanSequenceFromActProbList(rank, act_probList):\n",
    "    cos = []\n",
    "    for act_prob in act_probList:\n",
    "        cos.append(spearmanFromActProb(rank, act_prob))\n",
    "    return np.array(cos)\n",
    "def evaluateContributionsFromLogs(logs, client_nums):\n",
    "    contirbution = []\n",
    "    ddl = len(logs)\n",
    "    for r in range(ddl):\n",
    "        contirbution.append([0 for c in range(client_nums)])\n",
    "    pprev_acc = logs[0].acc\n",
    "    prev_participants = logs[1].participants\n",
    "    prev_acc = logs[1].acc\n",
    "    for r in range(2, ddl):\n",
    "        for c in range(client_nums):\n",
    "            contirbution[r][c] = contirbution[r-1][c]\n",
    "        participants, acc = logs[r].participants, logs[r].acc\n",
    "        if acc - prev_acc > prev_acc - pprev_acc:\n",
    "            for c in prev_participants:\n",
    "                contirbution[r][c] -= 1\n",
    "            for c in participants:\n",
    "                contirbution[r][c] += 1\n",
    "        \n",
    "        if acc < prev_acc:\n",
    "            for c in participants:\n",
    "                contirbution[r][c] -= 1\n",
    "    return contirbution"
   ]
  },
  {
   "cell_type": "code",
   "execution_count": 3,
   "metadata": {},
   "outputs": [],
   "source": [
    "# MLP         MNIST/FMNIST    5/25/100  seed=2-5    =2*3*4 = 24\n",
    "# CNN         CIFAR10         5/25/100  seed=2-5    =1*3*4 = 12\n",
    "# RESNET18    CIFAR100        5/25/100  seed=2-5    =1*3*4 = 12"
   ]
  },
  {
   "cell_type": "code",
   "execution_count": 4,
   "metadata": {},
   "outputs": [],
   "source": [
    "def spearmanOfRoundFromCamera(camera, curr_round):\n",
    "    act_probs = camera.act_probLogs[curr_round]\n",
    "    contributions = evaluateContributionsFromLogs(camera.getRpmLogs(curr_round), camera.client_nums)\n",
    "    sco_rl = spearmanSequenceFromActProbList(camera.rank, act_probs)\n",
    "    sco_qi = spearmanSequenceFromActProbList(camera.rank, contributions[const_warm_up:])\n",
    "    return sco_rl, sco_qi"
   ]
  },
  {
   "cell_type": "code",
   "execution_count": 8,
   "metadata": {},
   "outputs": [
    {
     "data": {
      "text/plain": [
       "(0.7507692307692307, 0.24086931611304635)"
      ]
     },
     "execution_count": 8,
     "metadata": {},
     "output_type": "execute_result"
    }
   ],
   "source": [
    "with open('camera/cn25_pn5_dFMNIST_aMLP_plabel-skew_seed4.camera', 'rb') as f:\n",
    "    camera = pickle.load(f)\n",
    "curr_round = 4\n",
    "sco_rl, sco_qi = spearmanOfRoundFromCamera(camera, curr_round)\n",
    "# 合法轮数: const_warm_up 到 const_final_round\n",
    "final_spearman_co_rl = sco_rl[const_final_round]\n",
    "final_spearman_co_qi = sco_qi[const_final_round]\n",
    "\n",
    "final_spearman_co_rl, final_spearman_co_qi"
   ]
  },
  {
   "cell_type": "code",
   "execution_count": null,
   "metadata": {},
   "outputs": [],
   "source": []
  },
  {
   "cell_type": "code",
   "execution_count": null,
   "metadata": {},
   "outputs": [],
   "source": []
  }
 ],
 "metadata": {
  "kernelspec": {
   "display_name": "base",
   "language": "python",
   "name": "python3"
  },
  "language_info": {
   "codemirror_mode": {
    "name": "ipython",
    "version": 3
   },
   "file_extension": ".py",
   "mimetype": "text/x-python",
   "name": "python",
   "nbconvert_exporter": "python",
   "pygments_lexer": "ipython3",
   "version": "3.8.10"
  }
 },
 "nbformat": 4,
 "nbformat_minor": 2
}
