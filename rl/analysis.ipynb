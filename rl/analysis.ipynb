{
 "cells": [
  {
   "cell_type": "code",
   "execution_count": 1,
   "metadata": {},
   "outputs": [],
   "source": [
    "import torch\n",
    "import torch.nn as nn\n",
    "import torch.nn.functional as F\n",
    "import numpy as np\n",
    "\n",
    "import logging\n",
    "\n",
    "logger = logging.getLogger('')\n",
    "logger.setLevel(logging.INFO)\n",
    "\n",
    "from helper import Camera\n",
    "import pickle\n",
    "import scipy\n"
   ]
  },
  {
   "cell_type": "code",
   "execution_count": 2,
   "metadata": {},
   "outputs": [],
   "source": [
    "const_rl_ddl = 200\n",
    "const_warm_up = 2\n",
    "const_final_round  = const_rl_ddl - 1\n",
    "def spearmanFromActProb(rank, act_prob):\n",
    "    x = [act_prob[i] for i in rank]\n",
    "    y = [c for c in range(len(rank))]\n",
    "    return scipy.stats.spearmanr(x,y)[0]\n",
    "def spearmanSequenceFromActProbList(rank, act_probList):\n",
    "    cos = []\n",
    "    for act_prob in act_probList:\n",
    "        cos.append(spearmanFromActProb(rank, act_prob))\n",
    "    return np.array(cos)\n",
    "def evaluateContributionsFromLogs(logs, client_nums):\n",
    "    contirbution = []\n",
    "    ddl = len(logs)\n",
    "    for r in range(ddl):\n",
    "        contirbution.append([0 for c in range(client_nums)])\n",
    "    pprev_acc = logs[0].acc\n",
    "    prev_participants = logs[1].participants\n",
    "    prev_acc = logs[1].acc\n",
    "    for r in range(2, ddl):\n",
    "        for c in range(client_nums):\n",
    "            contirbution[r][c] = contirbution[r-1][c]\n",
    "        participants, acc = logs[r].participants, logs[r].acc\n",
    "        if acc - prev_acc > prev_acc - pprev_acc:\n",
    "            for c in prev_participants:\n",
    "                contirbution[r][c] -= 1\n",
    "            for c in participants:\n",
    "                contirbution[r][c] += 1\n",
    "        \n",
    "        if acc < prev_acc:\n",
    "            for c in participants:\n",
    "                contirbution[r][c] -= 1\n",
    "    return contirbution"
   ]
  },
  {
   "cell_type": "code",
   "execution_count": 3,
   "metadata": {},
   "outputs": [],
   "source": [
    "# MLP         MNIST/FMNIST    5/25/100  seed=2-5    =2*3*4 = 24\n",
    "# CNN         CIFAR10         5/25/100  seed=2-5    =1*3*4 = 12\n",
    "# RESNET18    CIFAR100        5/25/100  seed=2-5    =1*3*4 = 12"
   ]
  },
  {
   "cell_type": "code",
   "execution_count": 4,
   "metadata": {},
   "outputs": [],
   "source": [
    "def spearmanOfRoundFromCamera(camera, curr_round):\n",
    "    act_probs = camera.act_probLogs[curr_round]\n",
    "    contributions = evaluateContributionsFromLogs(camera.getRpmLogs(curr_round), camera.client_nums)\n",
    "    sco_rl = spearmanSequenceFromActProbList(camera.rank, act_probs)\n",
    "    sco_qi = spearmanSequenceFromActProbList(camera.rank, contributions[const_warm_up:])\n",
    "    return sco_rl, sco_qi"
   ]
  },
  {
   "cell_type": "code",
   "execution_count": 6,
   "metadata": {},
   "outputs": [
    {
     "data": {
      "text/plain": [
       "(0.7999999999999999, 0.6)"
      ]
     },
     "execution_count": 6,
     "metadata": {},
     "output_type": "execute_result"
    }
   ],
   "source": [
    "with open('camera/cn5_pn3_dFMNIST_aMLP_piid_seed3.camera', 'rb') as f:\n",
    "    camera = pickle.load(f)\n",
    "curr_round = 4\n",
    "sco_rl, sco_qi = spearmanOfRoundFromCamera(camera, curr_round)\n",
    "# 合法轮数: const_warm_up 到 const_final_round\n",
    "final_spearman_co_rl = sco_rl[const_final_round]\n",
    "final_spearman_co_qi = sco_qi[const_final_round]\n",
    "\n",
    "final_spearman_co_rl, final_spearman_co_qi"
   ]
  },
  {
   "cell_type": "code",
   "execution_count": 12,
   "metadata": {},
   "outputs": [
    {
     "name": "stderr",
     "output_type": "stream",
     "text": [
      "/root/miniconda3/lib/python3.8/site-packages/scipy/stats/_stats_py.py:4916: ConstantInputWarning: An input array is constant; the correlation coefficient is not defined.\n",
      "  warnings.warn(stats.ConstantInputWarning(warn_msg))\n"
     ]
    }
   ],
   "source": [
    "rl = []\n",
    "qi = []\n",
    "for seed in [2,3,4,5]:\n",
    "    with open('camera/cn100_pn10_dMNIST_aMLP_piid_seed{}.camera'.format(seed), 'rb') as f:\n",
    "        camera = pickle.load(f)\n",
    "    t_rl = []\n",
    "    t_qi = []\n",
    "    for curr_round in range(5):\n",
    "        sco_rl, sco_qi = spearmanOfRoundFromCamera(camera, curr_round)\n",
    "        t_rl.append(sco_rl[const_final_round])\n",
    "        t_qi.append(sco_qi[const_final_round])\n",
    "    rl += t_rl\n",
    "    qi += t_qi"
   ]
  },
  {
   "cell_type": "code",
   "execution_count": 13,
   "metadata": {},
   "outputs": [
    {
     "data": {
      "text/plain": [
       "[0.5887668766876687,\n",
       " 0.5972517251725171,\n",
       " 0.5672127212721272,\n",
       " 0.5497269726972697,\n",
       " 0.5745334533453345,\n",
       " 0.4927572757275727,\n",
       " 0.45491749174917484,\n",
       " 0.4483408340834083,\n",
       " 0.4481248124812481,\n",
       " 0.4751995199519952,\n",
       " 0.5145394539453945,\n",
       " 0.5211641164116411,\n",
       " 0.498985898589859,\n",
       " 0.46346234623462346,\n",
       " 0.4648784878487848,\n",
       " 0.5929792979297929,\n",
       " 0.6087128712871287,\n",
       " 0.5919831983198318,\n",
       " 0.5497629762976297,\n",
       " 0.517071707170717]"
      ]
     },
     "execution_count": 13,
     "metadata": {},
     "output_type": "execute_result"
    }
   ],
   "source": [
    "rl"
   ]
  },
  {
   "cell_type": "code",
   "execution_count": 3,
   "metadata": {},
   "outputs": [
    {
     "data": {
      "image/png": "[encoded data removed]",
      "text/plain": [
       "<Figure size 1200x800 with 1 Axes>"
      ]
     },
     "metadata": {},
     "output_type": "display_data"
    }
   ],
   "source": [
    "import matplotlib.pyplot as plt\n",
    "import numpy as np\n",
    "\n",
    "# 替换下面的数据和描述\n",
    "client_numbers = [100, 25, 5]\n",
    "\n",
    "\n",
    "\n",
    "mlp_spearman_values=[[10,12,7,6,5],[2,3,4,5,6],[3,4,5,6,7],]\n",
    "qi_spearman_values = [\n",
    "[7, 8, 9, 10, 11],\n",
    "[8, 9, 10, 11, 12],\n",
    "[6, 7, 8, 9, 10]\n",
    "]\n",
    "# 绘制箱型图\n",
    "plt.figure(figsize=(12, 8))\n",
    "numbers = [2, 4, 6]\n",
    "positions_mlp = np.array(numbers) - 0.25\n",
    "positions_qi = np.array(numbers) + 0.25\n",
    "# 绘制MLP数据的箱型图\n",
    "#plt.boxplot(mlp_spearman_values, labels=[\"Ours-100\",\"QI-100\",\"Ours-25\",\"QI-25\",\"Ours-5\",\"QI-5\"] , widths=0.8, patch_artist=True, boxprops=dict(facecolor='lightblue'))\n",
    "plt.boxplot(mlp_spearman_values, positions=positions_mlp ,widths=0.2, patch_artist=True, medianprops=dict(color='blue'), boxprops=dict(facecolor='lightblue'))\n",
    "# 绘制QI数据的箱型图\n",
    "plt.boxplot(qi_spearman_values, positions=positions_qi , widths=0.2, patch_artist=True, medianprops=dict(color='green'), boxprops=dict(facecolor='lightgreen'))\n",
    "\n",
    "# 设置图形属性\n",
    "plt.xlabel('Clients')\n",
    "plt.ylabel('Spearman')\n",
    "plt.title('MLP-MNIST')\n",
    "#plt.xticks(client_numbers)\n",
    "labels = [\"100\",\"25\",\"5\"]\n",
    "plt.xticks(numbers,labels)\n",
    "#plt.ylim(-1, 1)\n",
    "plt.grid(False)\n",
    "\n",
    "# 添加圆形图例\n",
    "# mlp_legend = plt.Line2D([0], [0], marker='o', color='w', label='Ours', markerfacecolor='lightblue', markersize=10)\n",
    "# qi_legend = plt.Line2D([0], [0], marker='o', color='w', label='QI', markerfacecolor='lightgreen', markersize=10)\n",
    "# plt.legend(handles=[mlp_legend, qi_legend], loc='upper left')\n",
    "\n",
    "# 创建方形图例代理\n",
    "mlp_legend = plt.Rectangle((0, 0), 1, 1, fc='lightblue', edgecolor='lightblue')\n",
    "qi_legend = plt.Rectangle((0, 0), 1, 1, fc='lightgreen', edgecolor='lightgreen')\n",
    "\n",
    "# 添加图例\n",
    "plt.legend([mlp_legend, qi_legend], ['Ours', 'QI'], loc='upper right')\n",
    "\n",
    "# 显示图形\n",
    "plt.show()"
   ]
  },
  {
   "cell_type": "code",
   "execution_count": null,
   "metadata": {},
   "outputs": [],
   "source": []
  }
 ],
 "metadata": {
  "kernelspec": {
   "display_name": "base",
   "language": "python",
   "name": "python3"
  },
  "language_info": {
   "codemirror_mode": {
    "name": "ipython",
    "version": 3
   },
   "file_extension": ".py",
   "mimetype": "text/x-python",
   "name": "python",
   "nbconvert_exporter": "python",
   "pygments_lexer": "ipython3",
   "version": "3.8.10"
  }
 },
 "nbformat": 4,
 "nbformat_minor": 2
}
